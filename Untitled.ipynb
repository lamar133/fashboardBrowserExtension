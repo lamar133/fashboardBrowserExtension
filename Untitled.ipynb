{
 "cells": [
  {
   "cell_type": "code",
   "execution_count": 1,
   "metadata": {
    "collapsed": true
   },
   "outputs": [],
   "source": [
    "consumer_key = 'sDSoFOWrqlu4MUvrBEyu1tBmjS9hxDPlB32u7hj6NRsh6ofOm8'\n",
    "consumer_secret = 'rkSXYPx6nIo8jwNUFvbAQhvdEO0QklZftR7T1ZIRWZysGqHqMF'\n",
    "token_key = 'H5uzl3Hu4W5LpDscjwTOmyrG9WO4361sgYL5Rc9n5d6mvSencG' \n",
    "token_secret = '1QhMmosl4IpKNK6u9kZ41ZGqvwzGvidLNBVasLKmMh7zjZKKym'"
   ]
  },
  {
   "cell_type": "code",
   "execution_count": 3,
   "metadata": {
    "collapsed": false
   },
   "outputs": [
    {
     "data": {
      "text/plain": [
       "{'id': 166715053380}"
      ]
     },
     "execution_count": 3,
     "metadata": {},
     "output_type": "execute_result"
    }
   ],
   "source": [
    "import pytumblr\n",
    "\n",
    "# Authenticate via OAuth\n",
    "client = pytumblr.TumblrRestClient(\n",
    "    consumer_key,\n",
    "    consumer_secret,\n",
    "    token_key,\n",
    "    token_secret\n",
    ")\n",
    "\n",
    "#Posts an image to your tumblr.\n",
    "#Make sure you point an image in your hard drive. Here, 'image.jpg' must be in the \n",
    "#same folder where your script is saved.\n",
    "#From yourBlogName.tumblr.com should just use 'yourBlogName'\n",
    "#The default state is set to \"queue\", to publish use \"published\"\n",
    "client.create_photo('test-fashboard', state=\"published\", tags=[\"testing\", \"ok\"], source=\"https://68.media.tumblr.com/b965fbb2e501610a29d80ffb6fb3e1ad/tumblr_n55vdeTse11rn1906o1_500.jpg\")"
   ]
  },
  {
   "cell_type": "code",
   "execution_count": null,
   "metadata": {
    "collapsed": true
   },
   "outputs": [],
   "source": []
  }
 ],
 "metadata": {
  "kernelspec": {
   "display_name": "Python 3",
   "language": "python",
   "name": "python3"
  },
  "language_info": {
   "codemirror_mode": {
    "name": "ipython",
    "version": 3
   },
   "file_extension": ".py",
   "mimetype": "text/x-python",
   "name": "python",
   "nbconvert_exporter": "python",
   "pygments_lexer": "ipython3",
   "version": "3.5.2"
  }
 },
 "nbformat": 4,
 "nbformat_minor": 0
}
